{
  "nbformat": 4,
  "nbformat_minor": 0,
  "metadata": {
    "colab": {
      "provenance": []
    },
    "kernelspec": {
      "name": "python3",
      "display_name": "Python 3"
    },
    "language_info": {
      "name": "python"
    }
  },
  "cells": [
    {
      "cell_type": "code",
      "execution_count": 40,
      "metadata": {
        "id": "11jKW3CJEICf"
      },
      "outputs": [],
      "source": [
        "!pip install crewai langchain langchain_google-genai -q"
      ]
    },
    {
      "cell_type": "code",
      "source": [
        "from crewai import Agent , Task , Crew , Process"
      ],
      "metadata": {
        "id": "lGvlc2RcERwO"
      },
      "execution_count": 41,
      "outputs": []
    },
    {
      "cell_type": "code",
      "source": [
        "import getpass\n",
        "import os\n",
        "\n",
        "if \"GOOGLE_API_KEY\" not in os.environ:\n",
        "    os.environ[\"GOOGLE_API_KEY\"] = getpass.getpass(\"Provide your Google API Key\")"
      ],
      "metadata": {
        "id": "YCaBw9MQNV91"
      },
      "execution_count": null,
      "outputs": []
    },
    {
      "cell_type": "code",
      "source": [
        "from langchain_google_genai import ChatGoogleGenerativeAI\n",
        "\n",
        "llm = ChatGoogleGenerativeAI(model=\"gemini-pro\")\n"
      ],
      "metadata": {
        "id": "FBrp-TDMFiJG"
      },
      "execution_count": 56,
      "outputs": []
    },
    {
      "cell_type": "code",
      "source": [
        "researcher=Agent(\n",
        "    role=\"Research\",\n",
        "    goal=\"Research on human sleep cycle\",\n",
        "    backstory=\"You are an AI which is interesed in understanding sleep cycle.\",\n",
        "    verbose=True,\n",
        "    allow_delegation=False,\n",
        "    llm=llm\n",
        ")"
      ],
      "metadata": {
        "id": "uEf6XsM4Fuvg"
      },
      "execution_count": 67,
      "outputs": []
    },
    {
      "cell_type": "code",
      "source": [
        "writer=Agent(\n",
        "    role=\"writer\",\n",
        "    goal=\"To writer a funny but informative blog post on sleep cycle\",\n",
        "    backstory=\"You are an AI Assistant who is really good at writing blogs in both funny and informative at the same time.\",\n",
        "    verbose=True,\n",
        "    allow_delegation=False,\n",
        "    llm=llm\n",
        ")"
      ],
      "metadata": {
        "id": "WwCcahqUGq8e"
      },
      "execution_count": 66,
      "outputs": []
    },
    {
      "cell_type": "code",
      "source": [
        "task1=Task(description=\"Investigate on human's sleep cycle\",agent=researcher)\n",
        "task2=Task(description=\"Write a intersting blog post about human's sleep cycle\",agent=writer)\n"
      ],
      "metadata": {
        "id": "3OiV3x5NHB1j"
      },
      "execution_count": 45,
      "outputs": []
    },
    {
      "cell_type": "code",
      "source": [
        "crew=Crew(\n",
        "    agents=[researcher,writer],\n",
        "    tasks=[task1,task2],\n",
        "    verbose=2,\n",
        "    process=Process.sequential\n",
        ")"
      ],
      "metadata": {
        "id": "ohZtDkMXHgnI"
      },
      "execution_count": 46,
      "outputs": []
    },
    {
      "cell_type": "code",
      "source": [
        "result=crew.kickoff()"
      ],
      "metadata": {
        "id": "KQ1hzyiyH-fV"
      },
      "execution_count": 65,
      "outputs": []
    }
  ]
}